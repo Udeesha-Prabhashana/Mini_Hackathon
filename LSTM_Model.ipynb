{
  "metadata": {
    "kernelspec": {
      "display_name": "Python 3",
      "name": "python3"
    },
    "language_info": {
      "name": "python",
      "version": "3.10.12",
      "mimetype": "text/x-python",
      "codemirror_mode": {
        "name": "ipython",
        "version": 3
      },
      "pygments_lexer": "ipython3",
      "nbconvert_exporter": "python",
      "file_extension": ".py"
    },
    "kaggle": {
      "accelerator": "none",
      "dataSources": [
        {
          "sourceId": 7212768,
          "sourceType": "datasetVersion",
          "datasetId": 4173652
        }
      ],
      "dockerImageVersionId": 30626,
      "isInternetEnabled": true,
      "language": "python",
      "sourceType": "notebook",
      "isGpuEnabled": false
    },
    "colab": {
      "provenance": [],
      "gpuType": "T4"
    },
    "accelerator": "GPU"
  },
  "nbformat_minor": 0,
  "nbformat": 4,
  "cells": [
    {
      "cell_type": "code",
      "source": [
        "import numpy as np # linear algebra\n",
        "import pandas as pd # data processing, CSV file I/O (e.g. pd.read_csv)"
      ],
      "metadata": {
        "_uuid": "8f2839f25d086af736a60e9eeb907d3b93b6e0e5",
        "_cell_guid": "b1076dfc-b9ad-4769-8c92-a6c4dae69d19",
        "execution": {
          "iopub.status.busy": "2023-12-16T03:27:25.269044Z",
          "iopub.execute_input": "2023-12-16T03:27:25.269367Z",
          "iopub.status.idle": "2023-12-16T03:27:25.672767Z",
          "shell.execute_reply.started": "2023-12-16T03:27:25.269338Z",
          "shell.execute_reply": "2023-12-16T03:27:25.671509Z"
        },
        "trusted": true,
        "id": "8ZwXrNS0w3Mu"
      },
      "execution_count": null,
      "outputs": []
    },
    {
      "cell_type": "code",
      "source": [
        "sales = pd.read_csv('Sales.csv', sep=\",\", encoding=\"ISO-8859-1\", header=0)"
      ],
      "metadata": {
        "execution": {
          "iopub.status.busy": "2023-12-16T03:30:50.927119Z",
          "iopub.execute_input": "2023-12-16T03:30:50.927492Z",
          "iopub.status.idle": "2023-12-16T03:30:51.774682Z",
          "shell.execute_reply.started": "2023-12-16T03:30:50.927461Z",
          "shell.execute_reply": "2023-12-16T03:30:51.773556Z"
        },
        "trusted": true,
        "id": "WiFgD_rLw3My"
      },
      "execution_count": null,
      "outputs": []
    },
    {
      "cell_type": "code",
      "source": [
        "sales.head()"
      ],
      "metadata": {
        "execution": {
          "iopub.status.busy": "2023-12-16T03:31:47.484235Z",
          "iopub.execute_input": "2023-12-16T03:31:47.484679Z",
          "iopub.status.idle": "2023-12-16T03:31:47.506536Z",
          "shell.execute_reply.started": "2023-12-16T03:31:47.484643Z",
          "shell.execute_reply": "2023-12-16T03:31:47.505466Z"
        },
        "trusted": true,
        "id": "4OecZ2Usw3My"
      },
      "execution_count": null,
      "outputs": []
    },
    {
      "cell_type": "code",
      "source": [
        "outlet_df = pd.read_csv('Outlet Info.csv', sep=\",\", encoding=\"ISO-8859-1\", header=0)\n",
        "outlet_df.head()"
      ],
      "metadata": {
        "execution": {
          "iopub.status.busy": "2023-12-16T03:32:37.231088Z",
          "iopub.execute_input": "2023-12-16T03:32:37.231493Z",
          "iopub.status.idle": "2023-12-16T03:32:37.254648Z",
          "shell.execute_reply.started": "2023-12-16T03:32:37.231459Z",
          "shell.execute_reply": "2023-12-16T03:32:37.253557Z"
        },
        "trusted": true,
        "id": "27WptUCZw3My"
      },
      "execution_count": null,
      "outputs": []
    },
    {
      "cell_type": "code",
      "source": [
        "mapping = pd.read_csv(\"Distributor Outlet Mapping.csv\")"
      ],
      "metadata": {
        "execution": {
          "iopub.status.busy": "2023-12-16T03:33:12.608794Z",
          "iopub.execute_input": "2023-12-16T03:33:12.609206Z",
          "iopub.status.idle": "2023-12-16T03:33:12.624186Z",
          "shell.execute_reply.started": "2023-12-16T03:33:12.609176Z",
          "shell.execute_reply": "2023-12-16T03:33:12.623094Z"
        },
        "trusted": true,
        "id": "9qkaTvIQw3Mz"
      },
      "execution_count": null,
      "outputs": []
    },
    {
      "cell_type": "code",
      "source": [
        "mapping.head()"
      ],
      "metadata": {
        "execution": {
          "iopub.status.busy": "2023-12-16T03:33:18.426589Z",
          "iopub.execute_input": "2023-12-16T03:33:18.426968Z",
          "iopub.status.idle": "2023-12-16T03:33:18.438069Z",
          "shell.execute_reply.started": "2023-12-16T03:33:18.426942Z",
          "shell.execute_reply": "2023-12-16T03:33:18.436729Z"
        },
        "trusted": true,
        "id": "IsQq4q56w3Mz"
      },
      "execution_count": null,
      "outputs": []
    },
    {
      "cell_type": "code",
      "source": [
        "sales.info()"
      ],
      "metadata": {
        "execution": {
          "iopub.status.busy": "2023-12-16T03:39:35.601447Z",
          "iopub.execute_input": "2023-12-16T03:39:35.602752Z",
          "iopub.status.idle": "2023-12-16T03:39:35.723167Z",
          "shell.execute_reply.started": "2023-12-16T03:39:35.602712Z",
          "shell.execute_reply": "2023-12-16T03:39:35.722328Z"
        },
        "trusted": true,
        "id": "mGRttQ3_w3Mz"
      },
      "execution_count": null,
      "outputs": []
    },
    {
      "cell_type": "code",
      "source": [
        "outlet_df.info()"
      ],
      "metadata": {
        "execution": {
          "iopub.status.busy": "2023-12-16T03:41:50.449570Z",
          "iopub.execute_input": "2023-12-16T03:41:50.450010Z",
          "iopub.status.idle": "2023-12-16T03:41:50.495581Z",
          "shell.execute_reply.started": "2023-12-16T03:41:50.449978Z",
          "shell.execute_reply": "2023-12-16T03:41:50.494074Z"
        },
        "trusted": true,
        "id": "BZtqZA3aw3Mz"
      },
      "execution_count": null,
      "outputs": []
    },
    {
      "cell_type": "code",
      "source": [
        "sales[sales[\"outlet_id\"] == \"outlet_code_1\"]"
      ],
      "metadata": {
        "execution": {
          "iopub.status.busy": "2023-12-16T03:43:59.219549Z",
          "iopub.execute_input": "2023-12-16T03:43:59.220165Z",
          "iopub.status.idle": "2023-12-16T03:43:59.268936Z",
          "shell.execute_reply.started": "2023-12-16T03:43:59.220132Z",
          "shell.execute_reply": "2023-12-16T03:43:59.268059Z"
        },
        "trusted": true,
        "id": "boJJRVPdw3M0"
      },
      "execution_count": null,
      "outputs": []
    },
    {
      "cell_type": "code",
      "source": [
        "merged_df = pd.merge(sales, outlet_df, on=\"outlet_id\")"
      ],
      "metadata": {
        "execution": {
          "iopub.status.busy": "2023-12-16T03:45:32.735310Z",
          "iopub.execute_input": "2023-12-16T03:45:32.735891Z",
          "iopub.status.idle": "2023-12-16T03:45:32.939397Z",
          "shell.execute_reply.started": "2023-12-16T03:45:32.735844Z",
          "shell.execute_reply": "2023-12-16T03:45:32.937754Z"
        },
        "trusted": true,
        "id": "epvU0qzNw3M0"
      },
      "execution_count": null,
      "outputs": []
    },
    {
      "cell_type": "code",
      "source": [
        "merged_df.info()"
      ],
      "metadata": {
        "execution": {
          "iopub.status.busy": "2023-12-16T03:44:36.006611Z",
          "iopub.execute_input": "2023-12-16T03:44:36.007097Z",
          "iopub.status.idle": "2023-12-16T03:44:36.168062Z",
          "shell.execute_reply.started": "2023-12-16T03:44:36.007058Z",
          "shell.execute_reply": "2023-12-16T03:44:36.166825Z"
        },
        "trusted": true,
        "id": "-7-ieBYnw3M0"
      },
      "execution_count": null,
      "outputs": []
    },
    {
      "cell_type": "code",
      "source": [
        "merged_df.to_csv(\"output_file.csv\",index=False, encoding=\"ISO-8859-1\")"
      ],
      "metadata": {
        "execution": {
          "iopub.status.busy": "2023-12-16T03:47:47.216877Z",
          "iopub.execute_input": "2023-12-16T03:47:47.217378Z",
          "iopub.status.idle": "2023-12-16T03:47:49.221266Z",
          "shell.execute_reply.started": "2023-12-16T03:47:47.217343Z",
          "shell.execute_reply": "2023-12-16T03:47:49.220339Z"
        },
        "trusted": true,
        "id": "NCPII47Aw3M1"
      },
      "execution_count": null,
      "outputs": []
    },
    {
      "cell_type": "code",
      "source": [
        "df = pd.read_csv(\"output_file.csv\")"
      ],
      "metadata": {
        "id": "WlotICALw3M1"
      },
      "execution_count": null,
      "outputs": []
    },
    {
      "cell_type": "code",
      "source": [
        "Q1 = df.quantile(0.25)\n",
        "Q3 = df.quantile(0.75)\n",
        "IQR = Q3 - Q1\n",
        "print(IQR)\n",
        "\n",
        "filtered_entries = ~((df < (Q1 - 1.5 * IQR)) | (df > (Q3 + 1.5 * IQR)))\n",
        "clean_data = df[filtered_entries]\n",
        "clean_data"
      ],
      "metadata": {
        "id": "gtmzqY10TEma"
      },
      "execution_count": null,
      "outputs": []
    },
    {
      "cell_type": "code",
      "source": [
        "df.tail()"
      ],
      "metadata": {
        "id": "6a_im0_80XOS"
      },
      "execution_count": null,
      "outputs": []
    },
    {
      "cell_type": "code",
      "source": [
        "df.shape"
      ],
      "metadata": {
        "id": "UHWztVxWz0UO"
      },
      "execution_count": null,
      "outputs": []
    },
    {
      "cell_type": "code",
      "source": [
        "df.nunique()"
      ],
      "metadata": {
        "id": "ozXz5uerz6m2"
      },
      "execution_count": null,
      "outputs": []
    },
    {
      "cell_type": "code",
      "source": [
        "df[\"expected_rainfall_num\"] = pd.to_numeric(df[\"expected_rainfall\"].str.replace(\"mm\", \"\"), errors=\"coerce\")"
      ],
      "metadata": {
        "id": "BiABXd2M1fKG"
      },
      "execution_count": null,
      "outputs": []
    },
    {
      "cell_type": "code",
      "source": [
        "df.corr()"
      ],
      "metadata": {
        "id": "9dZOWRsy2_Fq"
      },
      "execution_count": null,
      "outputs": []
    },
    {
      "cell_type": "code",
      "source": [
        "def clean_freezer(df: pd.DataFrame) -> pd.DataFrame:\n",
        "    unique_values = np.unique(df[\"freezer_status\"])\n",
        "    values = np.array(unique_values, dtype=str)\n",
        "\n",
        "    replacement_dict = {value: 'freezers available' for value in values if value.strip() == 'freezers available'}\n",
        "    replacement_dict_2 = {'freezers available': 1, ' nofreezers available': 0}\n",
        "\n",
        "    df[\"freezer_status\"] = df[\"freezer_status\"].replace(replacement_dict, regex=True)\n",
        "\n",
        "    df[\"freezer_status\"] = df[\"freezer_status\"].replace(replacement_dict_2)\n",
        "\n",
        "    return df\n",
        "\n",
        "df = clean_freezer(df)"
      ],
      "metadata": {
        "id": "BIDbjEWD3BKe"
      },
      "execution_count": null,
      "outputs": []
    },
    {
      "cell_type": "code",
      "source": [
        "def clean_outlet_region(df: pd.DataFrame) -> pd.DataFrame:\n",
        "    encoded = pd.get_dummies(df['region'], prefix='region')\n",
        "    df = pd.concat([df, encoded], axis=1)\n",
        "    df = df.drop(columns=['region'])\n",
        "    df = df.replace({True: 1, False: 0})\n",
        "\n",
        "    return df\n",
        "\n",
        "df = clean_outlet_region(df)"
      ],
      "metadata": {
        "id": "SGxFPE9v3mGY"
      },
      "execution_count": null,
      "outputs": []
    },
    {
      "cell_type": "code",
      "source": [
        "def convert_to_date(df: pd.DataFrame):\n",
        "\n",
        "    df[\"transaction_time\"] = pd.to_datetime(df[\"transaction_time\"], format='%Y-%m-%d %H:%M', errors='coerce')\n",
        "\n",
        "    # If you want to extract the week number\n",
        "    df[\"transaction_time\"] = df[\"transaction_time\"].dt.isocalendar().week.astype(\"int\")\n",
        "\n",
        "    return df\n",
        "\n",
        "df = convert_to_date(df)"
      ],
      "metadata": {
        "id": "2Vn-8Fir4ngQ"
      },
      "execution_count": null,
      "outputs": []
    },
    {
      "cell_type": "code",
      "source": [
        "df.info()"
      ],
      "metadata": {
        "id": "cd1IR_7C6VL8"
      },
      "execution_count": null,
      "outputs": []
    },
    {
      "cell_type": "code",
      "source": [
        "df.head()"
      ],
      "metadata": {
        "id": "y8QYlEhJ8ozT"
      },
      "execution_count": null,
      "outputs": []
    },
    {
      "cell_type": "code",
      "source": [
        "df.nunique()"
      ],
      "metadata": {
        "id": "BkQmIwS38uHJ"
      },
      "execution_count": null,
      "outputs": []
    },
    {
      "cell_type": "code",
      "source": [
        "def sort_dataframe(df, column_name)-> pd.DataFrame:\n",
        "    sorted_df = df.sort_values(by=[column_name])\n",
        "    return sorted_df\n",
        "\n",
        "df = sort_dataframe(df,\"transaction_time\")"
      ],
      "metadata": {
        "id": "3VywX4dV8VYj"
      },
      "execution_count": null,
      "outputs": []
    },
    {
      "cell_type": "code",
      "source": [
        "df.head()"
      ],
      "metadata": {
        "id": "H9xPRjbk9JHA"
      },
      "execution_count": null,
      "outputs": []
    },
    {
      "cell_type": "code",
      "source": [
        "def drop_columns(df: pd.DataFrame, columns_to_drop):\n",
        "    # Create a new DataFrame without the specified columns\n",
        "    new_df = df.drop(columns=columns_to_drop, errors='ignore')\n",
        "    return new_df\n",
        "\n",
        "columns_to_drop = [\"outlet_id\", \"expected_rainfall\", \"sku_name\"]\n",
        "\n",
        "cleaned_df = drop_columns(df, columns_to_drop)"
      ],
      "metadata": {
        "id": "ZczyzA606mUG"
      },
      "execution_count": null,
      "outputs": []
    },
    {
      "cell_type": "code",
      "source": [
        "cleaned_df.to_csv(\"cleaned_data.csv\",index=False, encoding=\"ISO-8859-1\")\n"
      ],
      "metadata": {
        "id": "dg1zwaYQ7zyT"
      },
      "execution_count": null,
      "outputs": []
    },
    {
      "cell_type": "code",
      "source": [
        "df.to_csv(\"without_drop_column.csv\",index=False, encoding=\"ISO-8859-1\")\n"
      ],
      "metadata": {
        "id": "48j7F4RX8Ev_"
      },
      "execution_count": null,
      "outputs": []
    },
    {
      "cell_type": "code",
      "source": [
        "df = pd.read_csv(\"without_drop_column.csv\")"
      ],
      "metadata": {
        "id": "namD0kPh_LVm"
      },
      "execution_count": null,
      "outputs": []
    },
    {
      "cell_type": "code",
      "source": [
        "df.info()"
      ],
      "metadata": {
        "id": "4-4CW-dy_gaS"
      },
      "execution_count": null,
      "outputs": []
    },
    {
      "cell_type": "code",
      "source": [
        "def clear_outlet_code(df: pd.DataFrame) -> pd.DataFrame:\n",
        "    df['outlet_id_num'] = df['outlet_id'].str.extract('(\\d+)').astype(int)\n",
        "    return df\n",
        "\n",
        "df = clear_outlet_code(df)"
      ],
      "metadata": {
        "id": "DEexy1Th_hX7"
      },
      "execution_count": null,
      "outputs": []
    },
    {
      "cell_type": "code",
      "source": [
        "df.info()"
      ],
      "metadata": {
        "id": "qZbF7OZS_v82"
      },
      "execution_count": null,
      "outputs": []
    },
    {
      "cell_type": "code",
      "source": [
        "grouped_df = df.groupby([\"outlet_id\", \"transaction_time\"]).agg({\"sales_quantity\": \"sum\",\"expected_rainfall_num\":\"mean\",\"freezer_status\":\"mean\",\"outlet_size\":\"mean\",\"population_density\":\"mean\",\"number_of_skus_sold\":\"mean\",\"average_household_income\":\"mean\",\"region_outstation\":\"mean\",\"region_upcountry\":\"mean\",\"region_western\":\"mean\",\"outlet_id_num\":\"mean\"}).reset_index()\n",
        "grouped_df.head()"
      ],
      "metadata": {
        "id": "pU8VIZwTGnAf"
      },
      "execution_count": null,
      "outputs": []
    },
    {
      "cell_type": "code",
      "source": [
        "grouped_df.shape"
      ],
      "metadata": {
        "id": "0NzcrdXZKIL1"
      },
      "execution_count": null,
      "outputs": []
    },
    {
      "cell_type": "code",
      "source": [
        "df = grouped_df"
      ],
      "metadata": {
        "id": "8LCv2soMUacG"
      },
      "execution_count": null,
      "outputs": []
    },
    {
      "cell_type": "code",
      "source": [
        "grouped_df.tail()"
      ],
      "metadata": {
        "id": "idb2L-lsKPfj"
      },
      "execution_count": null,
      "outputs": []
    },
    {
      "cell_type": "code",
      "source": [
        "df[\"outlet_id\"].value_counts()"
      ],
      "metadata": {
        "id": "yL3bc210RoTu"
      },
      "execution_count": null,
      "outputs": []
    },
    {
      "cell_type": "code",
      "source": [
        "def sort_dataframe(df, column_name, second_column)-> pd.DataFrame:\n",
        "    sorted_df = df.sort_values(by=[column_name,second_column])\n",
        "    return sorted_df\n",
        "\n",
        "df = sort_dataframe(df, 'transaction_time','outlet_id_num')\n",
        "df.head()"
      ],
      "metadata": {
        "id": "HY20ZsPcNuN0"
      },
      "execution_count": null,
      "outputs": []
    },
    {
      "cell_type": "code",
      "source": [
        "df[\"outlet_id_num\"].unique()"
      ],
      "metadata": {
        "id": "mDtrnM0WP456"
      },
      "execution_count": null,
      "outputs": []
    },
    {
      "cell_type": "code",
      "source": [
        "df[\"outlet_id\"].value_counts()"
      ],
      "metadata": {
        "id": "3HmbxvQ2QT1E"
      },
      "execution_count": null,
      "outputs": []
    },
    {
      "cell_type": "code",
      "source": [
        "df[\"transaction_time\"].value_counts()"
      ],
      "metadata": {
        "id": "TgT8zd6oQb-A"
      },
      "execution_count": null,
      "outputs": []
    },
    {
      "cell_type": "code",
      "source": [
        "df.to_csv(\"final_data.csv\", index=False,encoding=\"ISO-8859-1\")\n"
      ],
      "metadata": {
        "id": "wrwkSbgeUnV1"
      },
      "execution_count": null,
      "outputs": []
    },
    {
      "cell_type": "code",
      "source": [
        "df = df[df['transaction_time'] < 22]\n",
        "df.head()"
      ],
      "metadata": {
        "id": "ncSTvjDfVNcY"
      },
      "execution_count": null,
      "outputs": []
    },
    {
      "cell_type": "code",
      "source": [
        "df[\"transaction_time\"].value_counts()"
      ],
      "metadata": {
        "id": "PxLJBeQnWJky"
      },
      "execution_count": null,
      "outputs": []
    },
    {
      "cell_type": "code",
      "source": [
        "train_df = df[df['transaction_time'] < 17]\n",
        "train_df.shape"
      ],
      "metadata": {
        "id": "zoMgrZn_WXLz"
      },
      "execution_count": null,
      "outputs": []
    },
    {
      "cell_type": "code",
      "source": [
        "test_df = df[df['transaction_time'] > 18]\n",
        "test_df.shape"
      ],
      "metadata": {
        "id": "fiHrTVJaXBU-"
      },
      "execution_count": null,
      "outputs": []
    },
    {
      "cell_type": "code",
      "source": [
        "val_df = df[(df['transaction_time'] >= 17) & (df['transaction_time'] <= 18)]\n",
        "val_df.shape"
      ],
      "metadata": {
        "id": "R8tML67PXM80"
      },
      "execution_count": null,
      "outputs": []
    },
    {
      "cell_type": "code",
      "source": [
        "def get_target_and_training_data(df: pd.DataFrame):\n",
        "    Y = df['sales_quantity']\n",
        "    X = df.drop(columns=['sales_quantity',\"outlet_id\",\"number_of_skus_sold\"])\n",
        "    return Y, X\n",
        "\n",
        "train_Y, train_X = get_target_and_training_data(train_df)\n",
        "validation_Y, validation_X = get_target_and_training_data(val_df)\n",
        "test_Y, test_X = get_target_and_training_data(test_df)"
      ],
      "metadata": {
        "id": "TM4JY-IXXnxl"
      },
      "execution_count": null,
      "outputs": []
    },
    {
      "cell_type": "code",
      "source": [
        "X_train = train_X.values.reshape((train_X.shape[0], train_X.shape[1], 1))\n",
        "X_valid = validation_X.values.reshape((validation_X.shape[0], validation_X.shape[1], 1))\n",
        "\n",
        "print(\"Train set reshaped\", X_train.shape)\n",
        "print(\"Validation set reshaped\", X_valid.shape)"
      ],
      "metadata": {
        "id": "ANu9gsrNYFZI"
      },
      "execution_count": null,
      "outputs": []
    },
    {
      "cell_type": "code",
      "source": [
        "from keras import optimizers\n",
        "from keras.utils import plot_model\n",
        "from keras.models import Sequential, Model\n",
        "from keras.layers import Conv1D, MaxPooling1D\n",
        "from keras.layers import Dense, LSTM, RepeatVector, TimeDistributed, Flatten\n",
        "from sklearn.metrics import mean_squared_error\n",
        "from sklearn.model_selection import train_test_split"
      ],
      "metadata": {
        "id": "CFrGuCM0Yatg"
      },
      "execution_count": null,
      "outputs": []
    },
    {
      "cell_type": "code",
      "source": [
        "serie_size =  X_train.shape[1] # 12\n",
        "n_features =  X_train.shape[2] # 1\n",
        "\n",
        "epochs = 20\n",
        "batch = 128\n",
        "lr = 0.0001\n",
        "\n",
        "lstm_model = Sequential()\n",
        "lstm_model.add(LSTM(10, input_shape=(serie_size, n_features), return_sequences=True))\n",
        "lstm_model.add(LSTM(6, activation='relu', return_sequences=True))\n",
        "lstm_model.add(LSTM(1, activation='relu'))\n",
        "lstm_model.add(Dense(10, kernel_initializer='glorot_normal', activation='relu'))\n",
        "lstm_model.add(Dense(10, kernel_initializer='glorot_normal', activation='relu'))\n",
        "lstm_model.add(Dense(1))\n",
        "lstm_model.summary()\n",
        "\n",
        "adam = optimizers.Adam(lr)\n",
        "lstm_model.compile(loss='mse', optimizer=adam, metrics=[\"mape\"])"
      ],
      "metadata": {
        "id": "MzayRJKOYSzC"
      },
      "execution_count": null,
      "outputs": []
    },
    {
      "cell_type": "code",
      "source": [
        "lstm_history = lstm_model.fit(X_train, train_Y,\n",
        "                              validation_data=(X_valid, validation_Y),\n",
        "                              batch_size=32,\n",
        "                              epochs=20,\n",
        "                              verbose=2)"
      ],
      "metadata": {
        "id": "dgmlzCZFYX4t"
      },
      "execution_count": null,
      "outputs": []
    },
    {
      "cell_type": "code",
      "source": [],
      "metadata": {
        "id": "F4oS12mhYlTN"
      },
      "execution_count": null,
      "outputs": []
    }
  ]
}